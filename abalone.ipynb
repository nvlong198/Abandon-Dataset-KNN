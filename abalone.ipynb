{
 "cells": [
  {
   "cell_type": "code",
   "execution_count": 522,
   "metadata": {},
   "outputs": [],
   "source": [
    "%matplotlib inline\n",
    "\n",
    "import pandas as pd\n",
    "import numpy as np\n",
    "\n",
    "# sklearn support\n",
    "from sklearn.model_selection import train_test_split\n",
    "from sklearn import metrics\n",
    "from sklearn.datasets.base import Bunch\n",
    "\n",
    "# machine learning algorithm of interest\n",
    "from sklearn.neighbors import KNeighborsClassifier"
   ]
  },
  {
   "cell_type": "code",
   "execution_count": 559,
   "metadata": {},
   "outputs": [],
   "source": [
    "# Nạp dữ liệu từ data_file\n",
    "def load_data(data_file):\n",
    "    min_max_scaler = preprocessing.MinMaxScaler()\n",
    "    \n",
    "    \n",
    "    xqlabs = ['F','M','I','Length','Diameter','Height','Whole weight','Shucked weight','Viscera weight','Shell weight']\n",
    "\n",
    "    # y data labels\n",
    "    ylabs = ['Rings']\n",
    "\n",
    "    # nạp data vào dataframe\n",
    "    df = pd.read_csv(data_file, header=None,names=xqlabs+ylabs)\n",
    "        \n",
    "    print(df.columns.tolist())\n",
    "           \n",
    "    return Bunch(data   =  (df[xqlabs]),\n",
    "                 target = (df[ylabs]),\n",
    "                 feature_names = xqlabs,\n",
    "                 target_names  = ylabs)"
   ]
  },
  {
   "cell_type": "code",
   "execution_count": 563,
   "metadata": {},
   "outputs": [
    {
     "name": "stdout",
     "output_type": "stream",
     "text": [
      "['F', 'M', 'I', 'Length', 'Diameter', 'Height', 'Whole weight', 'Shucked weight', 'Viscera weight', 'Shell weight', 'Rings']\n",
      "['F', 'M', 'I', 'Length', 'Diameter', 'Height', 'Whole weight', 'Shucked weight', 'Viscera weight', 'Shell weight', 'Rings']\n"
     ]
    }
   ],
   "source": [
    "# Load the dataset\n",
    "dataTrain = load_data(\"abalone.train4\")\n",
    "X_train = dataTrain.data\n",
    "y_train = dataTrain.target\n",
    "\n",
    "dataTest = load_data(\"abalone.test4\")\n",
    "X_test = dataTest.data\n",
    "y_test = dataTest.target"
   ]
  },
  {
   "cell_type": "code",
   "execution_count": 571,
   "metadata": {
    "scrolled": true
   },
   "outputs": [
    {
     "name": "stdout",
     "output_type": "stream",
     "text": [
      "   F  M  I  Length  Diameter  Height  Whole weight  Shucked weight  \\\n",
      "0  0  0  1   0.380     0.290   0.100        0.2370          0.1080   \n",
      "1  0  1  0   0.495     0.400   0.135        0.6100          0.2720   \n",
      "2  0  1  0   0.640     0.505   0.155        1.4025          0.7050   \n",
      "3  0  0  1   0.415     0.315   0.100        0.3645          0.1765   \n",
      "4  0  1  0   0.460     0.360   0.135        0.6105          0.1955   \n",
      "\n",
      "   Viscera weight  Shell weight  \n",
      "0          0.0395         0.082  \n",
      "1          0.1435         0.144  \n",
      "2          0.2655         0.335  \n",
      "3          0.0795         0.095  \n",
      "4          0.1070         0.235  \n",
      "   Rings\n",
      "0      6\n",
      "1      7\n",
      "2     10\n",
      "3      8\n",
      "4     14\n",
      "   Rings\n",
      "0      6\n",
      "1      7\n",
      "2     10\n",
      "3      8\n",
      "4     14\n",
      "(1254, 10)\n",
      "(1254, 1)\n"
     ]
    }
   ],
   "source": [
    "print (X_train.head())\n",
    "#print (type((X_train)))\n",
    "\n",
    "print (y_train.head())\n",
    "#print (type((y_train)))\n",
    "print (y_train.head())\n",
    "\n",
    "print (X_test.shape)\n",
    "print (y_test.shape)\n",
    "\n"
   ]
  },
  {
   "cell_type": "code",
   "execution_count": 572,
   "metadata": {},
   "outputs": [
    {
     "name": "stdout",
     "output_type": "stream",
     "text": [
      "KNeighborsClassifier(algorithm='auto', leaf_size=30, metric='minkowski',\n",
      "           metric_params=None, n_jobs=None, n_neighbors=10, p=2,\n",
      "           weights='uniform')\n"
     ]
    }
   ],
   "source": [
    "def make_spiffy(y):\n",
    "    # chuyển mảng (N,1) thành mảng (N,) để fit vào tập train\n",
    "    return y.values.reshape(len(y.values))\n",
    "\n",
    "knc = KNeighborsClassifier(n_neighbors=10)\n",
    "knc.fit(X_train, make_spiffy(y_train))\n",
    "\n",
    "print (knc)"
   ]
  },
  {
   "cell_type": "code",
   "execution_count": 573,
   "metadata": {},
   "outputs": [],
   "source": [
    "yhat_test = knc.predict(X_test)"
   ]
  },
  {
   "cell_type": "code",
   "execution_count": 574,
   "metadata": {},
   "outputs": [
    {
     "name": "stdout",
     "output_type": "stream",
     "text": [
      "0.250398724083\n"
     ]
    }
   ],
   "source": [
    "print (knc.score(X_test,y_test))"
   ]
  },
  {
   "cell_type": "code",
   "execution_count": 575,
   "metadata": {},
   "outputs": [
    {
     "name": "stdout",
     "output_type": "stream",
     "text": [
      "              precision    recall  f1-score   support\n",
      "\n",
      "           3       0.00      0.00      0.00         6\n",
      "           4       0.20      0.20      0.20        15\n",
      "           5       0.24      0.36      0.29        25\n",
      "           6       0.45      0.43      0.44        75\n",
      "           7       0.30      0.31      0.30       114\n",
      "           8       0.31      0.37      0.34       174\n",
      "           9       0.23      0.40      0.29       190\n",
      "          10       0.20      0.22      0.21       201\n",
      "          11       0.24      0.23      0.23       160\n",
      "          12       0.24      0.07      0.11        83\n",
      "          13       0.07      0.06      0.06        51\n",
      "          14       0.29      0.05      0.08        41\n",
      "          15       0.00      0.00      0.00        28\n",
      "          16       0.33      0.03      0.06        31\n",
      "          17       0.00      0.00      0.00        24\n",
      "          18       0.00      0.00      0.00        13\n",
      "          19       0.00      0.00      0.00        10\n",
      "          20       0.00      0.00      0.00         5\n",
      "          21       0.00      0.00      0.00         3\n",
      "          22       0.00      0.00      0.00         3\n",
      "          23       0.00      0.00      0.00         2\n",
      "\n",
      "   micro avg       0.25      0.25      0.25      1254\n",
      "   macro avg       0.15      0.13      0.13      1254\n",
      "weighted avg       0.24      0.25      0.23      1254\n",
      "\n"
     ]
    },
    {
     "name": "stderr",
     "output_type": "stream",
     "text": [
      "/home/vnlonguet/anaconda3/lib/python3.6/site-packages/sklearn/metrics/classification.py:1143: UndefinedMetricWarning: Precision and F-score are ill-defined and being set to 0.0 in labels with no predicted samples.\n",
      "  'precision', 'predicted', average, warn_for)\n",
      "/home/vnlonguet/anaconda3/lib/python3.6/site-packages/sklearn/metrics/classification.py:1143: UndefinedMetricWarning: Precision and F-score are ill-defined and being set to 0.0 in labels with no predicted samples.\n",
      "  'precision', 'predicted', average, warn_for)\n",
      "/home/vnlonguet/anaconda3/lib/python3.6/site-packages/sklearn/metrics/classification.py:1143: UndefinedMetricWarning: Precision and F-score are ill-defined and being set to 0.0 in labels with no predicted samples.\n",
      "  'precision', 'predicted', average, warn_for)\n"
     ]
    }
   ],
   "source": [
    "print (metrics.classification_report(y_test, yhat_test))"
   ]
  },
  {
   "cell_type": "code",
   "execution_count": null,
   "metadata": {},
   "outputs": [],
   "source": []
  }
 ],
 "metadata": {
  "kernelspec": {
   "display_name": "Python 3",
   "language": "python",
   "name": "python3"
  },
  "language_info": {
   "codemirror_mode": {
    "name": "ipython",
    "version": 3
   },
   "file_extension": ".py",
   "mimetype": "text/x-python",
   "name": "python",
   "nbconvert_exporter": "python",
   "pygments_lexer": "ipython3",
   "version": "3.6.5"
  }
 },
 "nbformat": 4,
 "nbformat_minor": 2
}
